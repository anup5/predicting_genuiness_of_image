{
 "cells": [
  {
   "cell_type": "code",
   "execution_count": 2,
   "metadata": {},
   "outputs": [
    {
     "name": "stdout",
     "output_type": "stream",
     "text": [
      "You have TensorFlow version 1.14.0\n"
     ]
    },
    {
     "name": "stderr",
     "output_type": "stream",
     "text": [
      "Using TensorFlow backend.\n"
     ]
    }
   ],
   "source": [
    "from bs4 import BeautifulSoup\n",
    "import spacy\n",
    "import unidecode\n",
    "from word2number import w2n\n",
    "\n",
    "import itertools\n",
    "import os\n",
    "\n",
    "import matplotlib.pyplot as plt\n",
    "import numpy as np\n",
    "import pandas as pd\n",
    "import tensorflow as tf\n",
    "\n",
    "from sklearn.preprocessing import LabelBinarizer, LabelEncoder\n",
    "from sklearn.metrics import confusion_matrix\n",
    "\n",
    "from tensorflow import keras\n",
    "from keras import models\n",
    "from keras import layers\n",
    "from keras.preprocessing import text, sequence\n",
    "from keras import utils\n",
    "\n",
    "from sklearn.metrics import balanced_accuracy_score\n",
    "from sklearn.metrics import classification_report\n",
    "from sklearn.metrics import confusion_matrix\n",
    "from sklearn.metrics import f1_score\n",
    "from sklearn.metrics import average_precision_score\n",
    "from sklearn.metrics import recall_score\n",
    "from sklearn.metrics import precision_score\n",
    "from sklearn.metrics import precision_recall_fscore_support\n",
    "from sklearn.metrics import precision_recall_curve\n",
    "\n",
    "from sklearn.model_selection import train_test_split\n",
    "import warnings\n",
    "import itertools\n",
    "warnings.filterwarnings(\"ignore\")\n",
    "plt.style.use('fivethirtyeight')\n",
    "\n",
    "# This code was tested with TensorFlow v1.4\n",
    "print(\"You have TensorFlow version\", tf.__version__)\n",
    "\n",
    "from urllib.parse import urlparse"
   ]
  },
  {
   "cell_type": "code",
   "execution_count": 3,
   "metadata": {},
   "outputs": [
    {
     "name": "stdout",
     "output_type": "stream",
     "text": [
      "C:\\Users\\eanusau\\Documents\\AI\\Stat\\Projects\\drivebuddyAI\n"
     ]
    }
   ],
   "source": [
    "print(os.getcwd())"
   ]
  },
  {
   "cell_type": "code",
   "execution_count": 50,
   "metadata": {},
   "outputs": [],
   "source": [
    "original_pavbhaji_dataset_dir = r'C:\\Users\\eanusau\\Documents\\AI\\Stat\\Projects\\drivebuddyAI\\machinelearningchallenge-master\\dataset\\1'\n",
    "original_non_pavbhaji_dataset_dir = r'C:\\Users\\eanusau\\Documents\\AI\\Stat\\Projects\\drivebuddyAI\\machinelearningchallenge-master\\dataset\\0'"
   ]
  },
  {
   "cell_type": "code",
   "execution_count": 51,
   "metadata": {},
   "outputs": [],
   "source": [
    "data = pd.read_json(r'C:\\Users\\eanusau\\Documents\\AI\\Stat\\Projects\\drivebuddyAI\\machinelearningchallenge-master\\dataset\\pavbhaji.json')"
   ]
  },
  {
   "cell_type": "code",
   "execution_count": 52,
   "metadata": {},
   "outputs": [
    {
     "data": {
      "text/plain": [
       "(1500, 18)"
      ]
     },
     "execution_count": 52,
     "metadata": {},
     "output_type": "execute_result"
    }
   ],
   "source": [
    "data.shape"
   ]
  },
  {
   "cell_type": "code",
   "execution_count": 53,
   "metadata": {},
   "outputs": [
    {
     "name": "stdout",
     "output_type": "stream",
     "text": [
      "<class 'pandas.core.frame.DataFrame'>\n",
      "RangeIndex: 1500 entries, 0 to 1499\n",
      "Data columns (total 18 columns):\n",
      "dimensions                 1500 non-null object\n",
      "display_url                1500 non-null object\n",
      "edge_liked_by              1500 non-null object\n",
      "edge_media_preview_like    1500 non-null object\n",
      "edge_media_to_caption      1500 non-null object\n",
      "edge_media_to_comment      1500 non-null object\n",
      "id                         1500 non-null int64\n",
      "is_video                   1500 non-null bool\n",
      "location                   924 non-null object\n",
      "owner                      1500 non-null object\n",
      "shortcode                  1500 non-null object\n",
      "tags                       1499 non-null object\n",
      "taken_at_timestamp         1500 non-null int64\n",
      "thumbnail_resources        1500 non-null object\n",
      "thumbnail_src              1500 non-null object\n",
      "urls                       1500 non-null object\n",
      "video_view_count           110 non-null float64\n",
      "comments_disabled          1491 non-null float64\n",
      "dtypes: bool(1), float64(2), int64(2), object(13)\n",
      "memory usage: 200.8+ KB\n"
     ]
    }
   ],
   "source": [
    "data.info()"
   ]
  },
  {
   "cell_type": "code",
   "execution_count": 54,
   "metadata": {},
   "outputs": [
    {
     "data": {
      "text/plain": [
       "0       [vadapav, foodgram, foodphotography, foodblogg...\n",
       "1       [healthyfood, sokolkata, mumbaifoodie, faridab...\n",
       "2       [foodphotography, mumbaipeople, vascom, delhib...\n",
       "3       [foodvideo, misscravingbuster, foodblogger, mu...\n",
       "4                                                      []\n",
       "                              ...                        \n",
       "1495    [foodphotography, bhaji, pasta, fries, indianf...\n",
       "1496    [cravings, foodcoma, mumbaifoodie, dailyfoodfe...\n",
       "1497    [mumbaistreetfood, whaaatislife, foodblogger, ...\n",
       "1498    [mumbaifoodlovers, likeforfollow, hungry, mumb...\n",
       "1499    [â�¤, foodphotography, streetcravings, foodblo...\n",
       "Name: tags, Length: 1500, dtype: object"
      ]
     },
     "execution_count": 54,
     "metadata": {},
     "output_type": "execute_result"
    }
   ],
   "source": [
    "data.tags"
   ]
  },
  {
   "cell_type": "markdown",
   "metadata": {},
   "source": [
    "### Preprocessing the data"
   ]
  },
  {
   "cell_type": "code",
   "execution_count": 55,
   "metadata": {},
   "outputs": [],
   "source": [
    "nlp = spacy.load('en_core_web_sm')\n",
    "\n",
    "# exclude words from spacy stopwords list\n",
    "deselect_stop_words = ['no', 'not']\n",
    "for w in deselect_stop_words:\n",
    "    nlp.vocab[w].is_stop = False\n",
    "\n",
    "\n",
    "def strip_html_tags(text):\n",
    "    \"\"\"remove html tags from text\"\"\"\n",
    "    soup = BeautifulSoup(text, \"html.parser\")\n",
    "    stripped_text = soup.get_text(separator=\" \")\n",
    "    return stripped_text\n",
    "\n",
    "def remove_whitespace(text):\n",
    "    \"\"\"remove extra whitespaces from text\"\"\"\n",
    "    text = text.strip()\n",
    "    return \" \".join(text.split())\n",
    "\n",
    "\n",
    "def remove_accented_chars(text):\n",
    "    \"\"\"remove accented characters from text, e.g. café\"\"\"\n",
    "    text = unidecode.unidecode(text)\n",
    "    return text\n",
    "\n",
    "\n",
    "def expand_contractions(text):\n",
    "    \"\"\"expand shortened words, e.g. don't to do not\"\"\"\n",
    "    text = list(cont.expand_texts([text], precise=True))[0]\n",
    "    return text\n",
    "\n",
    "def text_preprocessing(text, accented_chars=True, contractions=False, \n",
    "                       convert_num=True, extra_whitespace=True,\n",
    "                       lemmatization=True, lowercase=True, punctuations=True,\n",
    "                       remove_html=True, remove_num=True, special_chars=True, \n",
    "                       stop_words=True):\n",
    "    \"\"\"preprocess text with default option set to true for all steps\"\"\"\n",
    "    if remove_html == True: #remove html tags\n",
    "        text = strip_html_tags(text)\n",
    "    if extra_whitespace == True: #remove extra whitespaces\n",
    "        text = remove_whitespace(text)\n",
    "    if accented_chars == True: #remove accented characters\n",
    "        text = remove_accented_chars(text)\n",
    "    if contractions == True: #expand contractions\n",
    "        text = expand_contractions(text)\n",
    "    if lowercase == True: #convert all characters to lowercase\n",
    "        text = text.lower()\n",
    "\n",
    "    doc = nlp(text) #tokenise text\n",
    "\n",
    "    clean_text = []\n",
    "    \n",
    "    for token in doc:\n",
    "        flag = True\n",
    "        edit = token.text\n",
    "        # remove stop words\n",
    "        if stop_words == True and token.is_stop and token.pos_ != 'NUM': \n",
    "            flag = False\n",
    "        # remove punctuations\n",
    "        if punctuations == True and token.pos_ == 'PUNCT' and flag == True: \n",
    "            flag = False\n",
    "        # remove special characters\n",
    "        if special_chars == True and token.pos_ == 'SYM' and flag == True: \n",
    "            flag = False\n",
    "        # remove numbers\n",
    "        if remove_num == True and (token.pos_ == 'NUM' or token.text.isnumeric()) \\\n",
    "        and flag == True:\n",
    "            flag = False\n",
    "        # convert number words to numeric numbers\n",
    "        if convert_num == True and token.pos_ == 'NUM' and flag == True:\n",
    "            edit = w2n.word_to_num(token.text)\n",
    "        # convert tokens to base form\n",
    "        elif lemmatization == True and token.lemma_ != \"-PRON-\" and flag == True:\n",
    "            edit = token.lemma_\n",
    "        # append tokens edited and not removed to list \n",
    "        if edit != \"\" and flag == True:\n",
    "            clean_text.append(edit)        \n",
    "    return clean_text"
   ]
  },
  {
   "cell_type": "code",
   "execution_count": 56,
   "metadata": {},
   "outputs": [],
   "source": [
    "def remove_tags(tags):\n",
    "    \"\"\"remove tags from text\"\"\"\n",
    "    text=[]\n",
    "    stopwords = ['edge','node','text']\n",
    "    resultwords  = [word for word in tags if word.lower() not in stopwords]\n",
    "    text = ' '.join(resultwords)\n",
    "    return text"
   ]
  },
  {
   "cell_type": "code",
   "execution_count": 57,
   "metadata": {},
   "outputs": [
    {
     "name": "stdout",
     "output_type": "stream",
     "text": [
      "dimensions                    0\n",
      "display_url                   0\n",
      "edge_liked_by                 0\n",
      "edge_media_preview_like       0\n",
      "edge_media_to_caption         0\n",
      "edge_media_to_comment         0\n",
      "id                            0\n",
      "is_video                      0\n",
      "location                    576\n",
      "owner                         0\n",
      "shortcode                     0\n",
      "tags                          1\n",
      "taken_at_timestamp            0\n",
      "thumbnail_resources           0\n",
      "thumbnail_src                 0\n",
      "urls                          0\n",
      "video_view_count           1390\n",
      "comments_disabled             9\n",
      "dtype: int64\n"
     ]
    }
   ],
   "source": [
    "print(data.isnull().sum())\n",
    "data['tags'].fillna('pavbhaji', inplace=True)\n",
    "#data = data.drop([512], axis=0)"
   ]
  },
  {
   "cell_type": "code",
   "execution_count": 58,
   "metadata": {},
   "outputs": [],
   "source": [
    "data['tags'] =data.apply(lambda x: text_preprocessing(str(x['tags'])),axis=1)"
   ]
  },
  {
   "cell_type": "code",
   "execution_count": 59,
   "metadata": {},
   "outputs": [
    {
     "data": {
      "text/html": [
       "<div>\n",
       "<style scoped>\n",
       "    .dataframe tbody tr th:only-of-type {\n",
       "        vertical-align: middle;\n",
       "    }\n",
       "\n",
       "    .dataframe tbody tr th {\n",
       "        vertical-align: top;\n",
       "    }\n",
       "\n",
       "    .dataframe thead th {\n",
       "        text-align: right;\n",
       "    }\n",
       "</style>\n",
       "<table border=\"1\" class=\"dataframe\">\n",
       "  <thead>\n",
       "    <tr style=\"text-align: right;\">\n",
       "      <th></th>\n",
       "      <th>dimensions</th>\n",
       "      <th>display_url</th>\n",
       "      <th>edge_liked_by</th>\n",
       "      <th>edge_media_preview_like</th>\n",
       "      <th>edge_media_to_caption</th>\n",
       "      <th>edge_media_to_comment</th>\n",
       "      <th>id</th>\n",
       "      <th>is_video</th>\n",
       "      <th>location</th>\n",
       "      <th>owner</th>\n",
       "      <th>shortcode</th>\n",
       "      <th>tags</th>\n",
       "      <th>taken_at_timestamp</th>\n",
       "      <th>thumbnail_resources</th>\n",
       "      <th>thumbnail_src</th>\n",
       "      <th>urls</th>\n",
       "      <th>video_view_count</th>\n",
       "      <th>comments_disabled</th>\n",
       "    </tr>\n",
       "  </thead>\n",
       "  <tbody>\n",
       "    <tr>\n",
       "      <th>0</th>\n",
       "      <td>{'height': 734, 'width': 640}</td>\n",
       "      <td>https://instagram.fpnq3-1.fna.fbcdn.net/vp/352...</td>\n",
       "      <td>{'count': 3797}</td>\n",
       "      <td>{'count': 3797}</td>\n",
       "      <td>{'edges': [{'node': {'text': 'TAG A PAV BHAJI ...</td>\n",
       "      <td>{'count': 52}</td>\n",
       "      <td>1834712933156555776</td>\n",
       "      <td>True</td>\n",
       "      <td>None</td>\n",
       "      <td>{'id': '1919686029'}</td>\n",
       "      <td>Bl2NbElnIva</td>\n",
       "      <td>[vadapav, foodgram, foodphotography, foodblogg...</td>\n",
       "      <td>1532934873</td>\n",
       "      <td>[{'config_height': 150, 'config_width': 150, '...</td>\n",
       "      <td>https://instagram.fpnq3-1.fna.fbcdn.net/vp/cb5...</td>\n",
       "      <td>[https://instagram.fpnq3-1.fna.fbcdn.net/vp/89...</td>\n",
       "      <td>0.0</td>\n",
       "      <td>NaN</td>\n",
       "    </tr>\n",
       "    <tr>\n",
       "      <th>1</th>\n",
       "      <td>{'height': 750, 'width': 750}</td>\n",
       "      <td>https://instagram.fpnq3-1.fna.fbcdn.net/vp/b0d...</td>\n",
       "      <td>{'count': 12041}</td>\n",
       "      <td>{'count': 12041}</td>\n",
       "      <td>{'edges': [{'node': {'text': 'à¤¦à¥‡à¤¸à¥€ à¤¸...</td>\n",
       "      <td>{'count': 325}</td>\n",
       "      <td>1826000656302706176</td>\n",
       "      <td>True</td>\n",
       "      <td>{'has_public_page': True, 'id': '245717485', '...</td>\n",
       "      <td>{'id': '1445587278'}</td>\n",
       "      <td>BlXQewejY3Z</td>\n",
       "      <td>[healthyfood, sokolkata, mumbaifoodie, faridab...</td>\n",
       "      <td>1531897016</td>\n",
       "      <td>[{'config_height': 150, 'config_width': 150, '...</td>\n",
       "      <td>https://instagram.fpnq3-1.fna.fbcdn.net/vp/ad3...</td>\n",
       "      <td>[https://instagram.fpnq3-1.fna.fbcdn.net/vp/9c...</td>\n",
       "      <td>0.0</td>\n",
       "      <td>NaN</td>\n",
       "    </tr>\n",
       "    <tr>\n",
       "      <th>2</th>\n",
       "      <td>{'height': 800, 'width': 640}</td>\n",
       "      <td>https://instagram.fpnq3-1.fna.fbcdn.net/vp/cb4...</td>\n",
       "      <td>{'count': 3544}</td>\n",
       "      <td>{'count': 3544}</td>\n",
       "      <td>{'edges': [{'node': {'text': 'Pav BhajiðŸ˜�ðŸ˜...</td>\n",
       "      <td>{'count': 18}</td>\n",
       "      <td>1849962218902145792</td>\n",
       "      <td>True</td>\n",
       "      <td>{'has_public_page': True, 'id': '213724095', '...</td>\n",
       "      <td>{'id': '4759392841'}</td>\n",
       "      <td>BmsYtYpjkq4</td>\n",
       "      <td>[foodphotography, mumbaipeople, vascom, delhib...</td>\n",
       "      <td>1534752790</td>\n",
       "      <td>[{'config_height': 150, 'config_width': 150, '...</td>\n",
       "      <td>https://instagram.fpnq3-1.fna.fbcdn.net/vp/64f...</td>\n",
       "      <td>[https://instagram.fpnq3-1.fna.fbcdn.net/vp/5e...</td>\n",
       "      <td>0.0</td>\n",
       "      <td>NaN</td>\n",
       "    </tr>\n",
       "    <tr>\n",
       "      <th>3</th>\n",
       "      <td>{'height': 937, 'width': 750}</td>\n",
       "      <td>https://instagram.fpnq3-1.fna.fbcdn.net/vp/180...</td>\n",
       "      <td>{'count': 1388}</td>\n",
       "      <td>{'count': 1388}</td>\n",
       "      <td>{'edges': [{'node': {'text': 'Asli Makhan Pav ...</td>\n",
       "      <td>{'count': 91}</td>\n",
       "      <td>1828963273137213696</td>\n",
       "      <td>True</td>\n",
       "      <td>{'has_public_page': True, 'id': '234730336', '...</td>\n",
       "      <td>{'id': '4628040416'}</td>\n",
       "      <td>BlhyGgalFDw</td>\n",
       "      <td>[foodvideo, misscravingbuster, foodblogger, mu...</td>\n",
       "      <td>1532249632</td>\n",
       "      <td>[{'config_height': 150, 'config_width': 150, '...</td>\n",
       "      <td>https://instagram.fpnq3-1.fna.fbcdn.net/vp/802...</td>\n",
       "      <td>[https://instagram.fpnq3-1.fna.fbcdn.net/vp/33...</td>\n",
       "      <td>0.0</td>\n",
       "      <td>NaN</td>\n",
       "    </tr>\n",
       "    <tr>\n",
       "      <th>4</th>\n",
       "      <td>{'height': 936, 'width': 750}</td>\n",
       "      <td>https://instagram.fpnq3-1.fna.fbcdn.net/vp/5ee...</td>\n",
       "      <td>{'count': 223}</td>\n",
       "      <td>{'count': 223}</td>\n",
       "      <td>{'edges': [{'node': {'text': 'Tag a Pav bhaji ...</td>\n",
       "      <td>{'count': 14}</td>\n",
       "      <td>1852265507774756864</td>\n",
       "      <td>True</td>\n",
       "      <td>None</td>\n",
       "      <td>{'id': '7798081590'}</td>\n",
       "      <td>Bm0kapkn3ha</td>\n",
       "      <td>[]</td>\n",
       "      <td>1535027282</td>\n",
       "      <td>[{'config_height': 150, 'config_width': 150, '...</td>\n",
       "      <td>https://instagram.fpnq3-1.fna.fbcdn.net/vp/292...</td>\n",
       "      <td>[https://instagram.fpnq3-1.fna.fbcdn.net/vp/6a...</td>\n",
       "      <td>0.0</td>\n",
       "      <td>NaN</td>\n",
       "    </tr>\n",
       "  </tbody>\n",
       "</table>\n",
       "</div>"
      ],
      "text/plain": [
       "                      dimensions  \\\n",
       "0  {'height': 734, 'width': 640}   \n",
       "1  {'height': 750, 'width': 750}   \n",
       "2  {'height': 800, 'width': 640}   \n",
       "3  {'height': 937, 'width': 750}   \n",
       "4  {'height': 936, 'width': 750}   \n",
       "\n",
       "                                         display_url     edge_liked_by  \\\n",
       "0  https://instagram.fpnq3-1.fna.fbcdn.net/vp/352...   {'count': 3797}   \n",
       "1  https://instagram.fpnq3-1.fna.fbcdn.net/vp/b0d...  {'count': 12041}   \n",
       "2  https://instagram.fpnq3-1.fna.fbcdn.net/vp/cb4...   {'count': 3544}   \n",
       "3  https://instagram.fpnq3-1.fna.fbcdn.net/vp/180...   {'count': 1388}   \n",
       "4  https://instagram.fpnq3-1.fna.fbcdn.net/vp/5ee...    {'count': 223}   \n",
       "\n",
       "  edge_media_preview_like                              edge_media_to_caption  \\\n",
       "0         {'count': 3797}  {'edges': [{'node': {'text': 'TAG A PAV BHAJI ...   \n",
       "1        {'count': 12041}  {'edges': [{'node': {'text': 'à¤¦à¥‡à¤¸à¥€ à¤¸...   \n",
       "2         {'count': 3544}  {'edges': [{'node': {'text': 'Pav BhajiðŸ˜�ðŸ˜...   \n",
       "3         {'count': 1388}  {'edges': [{'node': {'text': 'Asli Makhan Pav ...   \n",
       "4          {'count': 223}  {'edges': [{'node': {'text': 'Tag a Pav bhaji ...   \n",
       "\n",
       "  edge_media_to_comment                   id  is_video  \\\n",
       "0         {'count': 52}  1834712933156555776      True   \n",
       "1        {'count': 325}  1826000656302706176      True   \n",
       "2         {'count': 18}  1849962218902145792      True   \n",
       "3         {'count': 91}  1828963273137213696      True   \n",
       "4         {'count': 14}  1852265507774756864      True   \n",
       "\n",
       "                                            location                 owner  \\\n",
       "0                                               None  {'id': '1919686029'}   \n",
       "1  {'has_public_page': True, 'id': '245717485', '...  {'id': '1445587278'}   \n",
       "2  {'has_public_page': True, 'id': '213724095', '...  {'id': '4759392841'}   \n",
       "3  {'has_public_page': True, 'id': '234730336', '...  {'id': '4628040416'}   \n",
       "4                                               None  {'id': '7798081590'}   \n",
       "\n",
       "     shortcode                                               tags  \\\n",
       "0  Bl2NbElnIva  [vadapav, foodgram, foodphotography, foodblogg...   \n",
       "1  BlXQewejY3Z  [healthyfood, sokolkata, mumbaifoodie, faridab...   \n",
       "2  BmsYtYpjkq4  [foodphotography, mumbaipeople, vascom, delhib...   \n",
       "3  BlhyGgalFDw  [foodvideo, misscravingbuster, foodblogger, mu...   \n",
       "4  Bm0kapkn3ha                                                 []   \n",
       "\n",
       "   taken_at_timestamp                                thumbnail_resources  \\\n",
       "0          1532934873  [{'config_height': 150, 'config_width': 150, '...   \n",
       "1          1531897016  [{'config_height': 150, 'config_width': 150, '...   \n",
       "2          1534752790  [{'config_height': 150, 'config_width': 150, '...   \n",
       "3          1532249632  [{'config_height': 150, 'config_width': 150, '...   \n",
       "4          1535027282  [{'config_height': 150, 'config_width': 150, '...   \n",
       "\n",
       "                                       thumbnail_src  \\\n",
       "0  https://instagram.fpnq3-1.fna.fbcdn.net/vp/cb5...   \n",
       "1  https://instagram.fpnq3-1.fna.fbcdn.net/vp/ad3...   \n",
       "2  https://instagram.fpnq3-1.fna.fbcdn.net/vp/64f...   \n",
       "3  https://instagram.fpnq3-1.fna.fbcdn.net/vp/802...   \n",
       "4  https://instagram.fpnq3-1.fna.fbcdn.net/vp/292...   \n",
       "\n",
       "                                                urls  video_view_count  \\\n",
       "0  [https://instagram.fpnq3-1.fna.fbcdn.net/vp/89...               0.0   \n",
       "1  [https://instagram.fpnq3-1.fna.fbcdn.net/vp/9c...               0.0   \n",
       "2  [https://instagram.fpnq3-1.fna.fbcdn.net/vp/5e...               0.0   \n",
       "3  [https://instagram.fpnq3-1.fna.fbcdn.net/vp/33...               0.0   \n",
       "4  [https://instagram.fpnq3-1.fna.fbcdn.net/vp/6a...               0.0   \n",
       "\n",
       "   comments_disabled  \n",
       "0                NaN  \n",
       "1                NaN  \n",
       "2                NaN  \n",
       "3                NaN  \n",
       "4                NaN  "
      ]
     },
     "execution_count": 59,
     "metadata": {},
     "output_type": "execute_result"
    }
   ],
   "source": [
    "data.head()"
   ]
  },
  {
   "cell_type": "code",
   "execution_count": 60,
   "metadata": {},
   "outputs": [
    {
     "data": {
      "text/plain": [
       "0       [vadapav, foodgram, foodphotography, foodblogg...\n",
       "1       [healthyfood, sokolkata, mumbaifoodie, faridab...\n",
       "2       [foodphotography, mumbaipeople, vascom, delhib...\n",
       "3       [foodvideo, misscravingbuster, foodblogger, mu...\n",
       "4                                                      []\n",
       "                              ...                        \n",
       "1495    [foodphotography, bhaji, pasta, fry, indianfoo...\n",
       "1496    [craving, foodcoma, mumbaifoodie, dailyfoodfee...\n",
       "1497    [mumbaistreetfood, whaaatislife, foodblogger, ...\n",
       "1498    [mumbaifoodlover, likeforfollow, hungry, mumba...\n",
       "1499    [', a$, foodphotography, streetcraving, foodbl...\n",
       "Name: tags, Length: 1500, dtype: object"
      ]
     },
     "execution_count": 60,
     "metadata": {},
     "output_type": "execute_result"
    }
   ],
   "source": [
    "data.tags"
   ]
  },
  {
   "cell_type": "code",
   "execution_count": 61,
   "metadata": {},
   "outputs": [],
   "source": [
    "def get_image(url):\n",
    "    image = urlparse(url).path.split('/')[-1]\n",
    "    return image"
   ]
  },
  {
   "cell_type": "code",
   "execution_count": 62,
   "metadata": {},
   "outputs": [],
   "source": [
    "data['image'] = data.apply(lambda x: get_image(x['display_url']),axis=1)"
   ]
  },
  {
   "cell_type": "code",
   "execution_count": 63,
   "metadata": {},
   "outputs": [],
   "source": [
    "from pathlib import Path\n",
    "def set_target(image):\n",
    "    target=0\n",
    "    if Path(original_pavbhaji_dataset_dir+'/'+image).is_file():\n",
    "        return 1\n",
    "    else:\n",
    "        return 0"
   ]
  },
  {
   "cell_type": "code",
   "execution_count": 65,
   "metadata": {},
   "outputs": [],
   "source": [
    "data['target'] = data.apply(lambda x: set_target(x['image']),axis=1)"
   ]
  },
  {
   "cell_type": "code",
   "execution_count": 66,
   "metadata": {},
   "outputs": [
    {
     "data": {
      "text/plain": [
       "0    1317\n",
       "1     183\n",
       "Name: target, dtype: int64"
      ]
     },
     "execution_count": 66,
     "metadata": {},
     "output_type": "execute_result"
    }
   ],
   "source": [
    "data['target'].value_counts()"
   ]
  },
  {
   "cell_type": "code",
   "execution_count": 67,
   "metadata": {},
   "outputs": [
    {
     "name": "stdout",
     "output_type": "stream",
     "text": [
      "<class 'pandas.core.frame.DataFrame'>\n",
      "RangeIndex: 1500 entries, 0 to 1499\n",
      "Data columns (total 20 columns):\n",
      "dimensions                 1500 non-null object\n",
      "display_url                1500 non-null object\n",
      "edge_liked_by              1500 non-null object\n",
      "edge_media_preview_like    1500 non-null object\n",
      "edge_media_to_caption      1500 non-null object\n",
      "edge_media_to_comment      1500 non-null object\n",
      "id                         1500 non-null int64\n",
      "is_video                   1500 non-null bool\n",
      "location                   924 non-null object\n",
      "owner                      1500 non-null object\n",
      "shortcode                  1500 non-null object\n",
      "tags                       1500 non-null object\n",
      "taken_at_timestamp         1500 non-null int64\n",
      "thumbnail_resources        1500 non-null object\n",
      "thumbnail_src              1500 non-null object\n",
      "urls                       1500 non-null object\n",
      "video_view_count           110 non-null float64\n",
      "comments_disabled          1491 non-null float64\n",
      "image                      1500 non-null object\n",
      "target                     1500 non-null int64\n",
      "dtypes: bool(1), float64(2), int64(3), object(14)\n",
      "memory usage: 224.2+ KB\n"
     ]
    }
   ],
   "source": [
    "data.info()"
   ]
  },
  {
   "cell_type": "markdown",
   "metadata": {},
   "source": [
    "###  Splitting the data into train and test data"
   ]
  },
  {
   "cell_type": "code",
   "execution_count": 76,
   "metadata": {},
   "outputs": [],
   "source": [
    "X = data['tags']\n",
    "y = data['target']\n",
    "\n",
    "# setting up testing and training sets\n",
    "x_train, x_test, y_train, y_test = train_test_split(X, y, test_size=0.10)\n",
    "\n",
    "max_words = 1000\n",
    "tokenize = text.Tokenizer(num_words=max_words, char_level=False)\n",
    "\n",
    "tokenize.fit_on_texts(x_train) # only fit on train\n",
    "x_train = tokenize.texts_to_matrix(x_train, mode='tfidf')\n",
    "x_test = tokenize.texts_to_matrix(x_test, mode='tfidf')\n"
   ]
  },
  {
   "cell_type": "code",
   "execution_count": 77,
   "metadata": {},
   "outputs": [
    {
     "name": "stdout",
     "output_type": "stream",
     "text": [
      "X shape: (1500,)\n",
      "X_train shape: (1350, 1000)\n",
      "X_test shape: (150, 1000)\n",
      "y_train shape: (1350,)\n",
      "y_test shape: (150,)\n"
     ]
    }
   ],
   "source": [
    "# Inspect the dimenstions of our training and test data (this is helpful to debug)\n",
    "print('X shape:', X.shape)\n",
    "print('X_train shape:', x_train.shape)\n",
    "print('X_test shape:', x_test.shape)\n",
    "print('y_train shape:', y_train.shape)\n",
    "print('y_test shape:', y_test.shape)"
   ]
  },
  {
   "cell_type": "markdown",
   "metadata": {},
   "source": [
    "### Using SMOTE as the data is unbalanced"
   ]
  },
  {
   "cell_type": "code",
   "execution_count": 78,
   "metadata": {},
   "outputs": [],
   "source": [
    "from imblearn.over_sampling import SMOTE\n",
    "from sklearn.model_selection import train_test_split\n",
    "\n",
    "sm = SMOTE(random_state=0, sampling_strategy='minority')\n",
    "X_resampled, y_resampled = sm.fit_sample(x_train, y_train)\n",
    "\n",
    "# setting up testing and training sets\n",
    "X_train, X_val, y_train, y_val = train_test_split(X_resampled, y_resampled, test_size=0.10)"
   ]
  },
  {
   "cell_type": "code",
   "execution_count": 79,
   "metadata": {},
   "outputs": [
    {
     "name": "stdout",
     "output_type": "stream",
     "text": [
      "x_train shape: (2136, 1000)\n",
      "x_test shape: (238, 1000)\n",
      "y_train shape: (2136,)\n",
      "y_test shape: (238,)\n"
     ]
    }
   ],
   "source": [
    "# Inspect the dimenstions of our training and test data (this is helpful to debug)\n",
    "print('x_train shape:', X_train.shape)\n",
    "print('x_test shape:', X_val.shape)\n",
    "print('y_train shape:', y_train.shape)\n",
    "print('y_test shape:', y_val.shape)"
   ]
  },
  {
   "cell_type": "markdown",
   "metadata": {},
   "source": [
    "# Model building"
   ]
  },
  {
   "cell_type": "code",
   "execution_count": 80,
   "metadata": {},
   "outputs": [],
   "source": [
    "batch_size = 16\n",
    "epochs = 10 # starts overfitting after 4\n",
    "from keras import regularizers\n",
    "\n",
    "# Build the model\n",
    "model = models.Sequential()\n",
    "model.add(layers.Dense(512, kernel_regularizer=regularizers.l2(0.001), activation='relu', input_shape=(max_words,)))\n",
    "model.add(layers.Dropout(0.5))\n",
    "model.add(layers.Dense(512, kernel_regularizer=regularizers.l2(0.001), activation='relu'))\n",
    "model.add(layers.Dropout(0.5))\n",
    "model.add(layers.Dense(1, activation='sigmoid'))\n",
    "\n",
    "model.compile(loss='binary_crossentropy',\n",
    "              optimizer='rmsprop',\n",
    "              metrics=['accuracy'])"
   ]
  },
  {
   "cell_type": "code",
   "execution_count": 81,
   "metadata": {},
   "outputs": [
    {
     "name": "stdout",
     "output_type": "stream",
     "text": [
      "Train on 2136 samples, validate on 238 samples\n",
      "Epoch 1/10\n",
      "2136/2136 [==============================] - 3s 1ms/step - loss: 1.0033 - acc: 0.7711 - val_loss: 0.7266 - val_acc: 0.8697\n",
      "Epoch 2/10\n",
      "2136/2136 [==============================] - 2s 1ms/step - loss: 0.5932 - acc: 0.8816 - val_loss: 0.4985 - val_acc: 0.9034 0s - loss: 0.5985 - ac\n",
      "Epoch 3/10\n",
      "2136/2136 [==============================] - 2s 1ms/step - loss: 0.4180 - acc: 0.9148 - val_loss: 0.4557 - val_acc: 0.8950\n",
      "Epoch 4/10\n",
      "2136/2136 [==============================] - 2s 955us/step - loss: 0.3527 - acc: 0.9223 - val_loss: 0.3602 - val_acc: 0.9118\n",
      "Epoch 5/10\n",
      "2136/2136 [==============================] - 2s 944us/step - loss: 0.3106 - acc: 0.9284 - val_loss: 0.3565 - val_acc: 0.9370\n",
      "Epoch 6/10\n",
      "2136/2136 [==============================] - 2s 942us/step - loss: 0.2865 - acc: 0.9270 - val_loss: 0.3902 - val_acc: 0.9118\n",
      "Epoch 7/10\n",
      "2136/2136 [==============================] - 2s 970us/step - loss: 0.2693 - acc: 0.9387 - val_loss: 0.2937 - val_acc: 0.9244\n",
      "Epoch 8/10\n",
      "2136/2136 [==============================] - 2s 1ms/step - loss: 0.2423 - acc: 0.9466 - val_loss: 0.2698 - val_acc: 0.9412\n",
      "Epoch 9/10\n",
      "2136/2136 [==============================] - 2s 943us/step - loss: 0.2422 - acc: 0.9429 - val_loss: 0.2810 - val_acc: 0.9160\n",
      "Epoch 10/10\n",
      "2136/2136 [==============================] - 2s 944us/step - loss: 0.2157 - acc: 0.9471 - val_loss: 0.2861 - val_acc: 0.9286\n"
     ]
    }
   ],
   "source": [
    "# model.fit trains the model\n",
    "# The validation_split param tells Keras what % of our training data should be used in the validation set\n",
    "# You can see the validation loss decreasing slowly when you run this\n",
    "# Because val_loss is no longer decreasing we stop training to prevent overfitting\n",
    "history = model.fit(X_train, y_train,\n",
    "                    batch_size=batch_size,\n",
    "                    epochs=epochs,\n",
    "                    verbose=1,\n",
    "                    validation_data=(X_val, y_val))"
   ]
  },
  {
   "cell_type": "markdown",
   "metadata": {},
   "source": [
    "### saving the model"
   ]
  },
  {
   "cell_type": "code",
   "execution_count": 82,
   "metadata": {},
   "outputs": [],
   "source": [
    "import h5py\n",
    "model.save('pavbhaji.h5')"
   ]
  },
  {
   "cell_type": "code",
   "execution_count": 83,
   "metadata": {},
   "outputs": [
    {
     "name": "stdout",
     "output_type": "stream",
     "text": [
      "150/150 [==============================] - 0s 223us/step\n",
      "Test score: 0.9700731468200684\n",
      "Test accuracy: 0.793333334128062\n"
     ]
    }
   ],
   "source": [
    "# Evaluate the accuracy of our trained model\n",
    "score = model.evaluate(x_test, y_test,\n",
    "                       batch_size=batch_size, verbose=1)\n",
    "print('Test score:', score[0])\n",
    "print('Test accuracy:', score[1])"
   ]
  },
  {
   "cell_type": "markdown",
   "metadata": {},
   "source": [
    "### This approach reaches an accuracy of ~80%. With a balanced binary classification problem, the accuracy reached by a purely random classifier would be 50%."
   ]
  },
  {
   "cell_type": "code",
   "execution_count": 84,
   "metadata": {},
   "outputs": [
    {
     "data": {
      "image/png": "[encoded data removed]",
      "text/plain": [
       "<Figure size 432x288 with 1 Axes>"
      ]
     },
     "metadata": {},
     "output_type": "display_data"
    },
    {
     "data": {
      "image/png": "[encoded data removed]",
      "text/plain": [
       "<Figure size 432x288 with 1 Axes>"
      ]
     },
     "metadata": {},
     "output_type": "display_data"
    }
   ],
   "source": [
    "import matplotlib.pyplot as plt\n",
    "acc = history.history['acc']\n",
    "val_acc = history.history['val_acc']\n",
    "loss = history.history['loss']\n",
    "val_loss = history.history['val_loss']\n",
    "epochs = range(1, len(acc) + 1)\n",
    "plt.plot(epochs, acc, 'bo', label='Training acc')\n",
    "plt.plot(epochs, val_acc, 'b', label='Validation acc')\n",
    "plt.title('Training and validation accuracy')\n",
    "plt.legend()\n",
    "plt.figure()\n",
    "plt.plot(epochs, loss, 'bo', label='Training loss')\n",
    "plt.plot(epochs, val_loss, 'b', label='Validation loss')\n",
    "plt.title('Training and validation loss')\n",
    "plt.legend()\n",
    "plt.show()"
   ]
  },
  {
   "cell_type": "code",
   "execution_count": 99,
   "metadata": {},
   "outputs": [],
   "source": [
    "y_pred = model.predict(x_test)"
   ]
  },
  {
   "cell_type": "code",
   "execution_count": 100,
   "metadata": {},
   "outputs": [
    {
     "data": {
      "text/plain": [
       "(array([False,  True]), array([112,  38], dtype=int64))"
      ]
     },
     "execution_count": 100,
     "metadata": {},
     "output_type": "execute_result"
    }
   ],
   "source": [
    "y_pred = ( y_pred > 0.1)\n",
    "np.unique(y_pred, return_counts=True)"
   ]
  },
  {
   "cell_type": "code",
   "execution_count": 101,
   "metadata": {},
   "outputs": [],
   "source": [
    "# This utility function is from the sklearn docs: http://scikit-learn.org/stable/auto_examples/model_selection/plot_confusion_matrix.html\n",
    "def plot_confusion_matrix(cm, classes,\n",
    "                          title='Confusion matrix',\n",
    "                          cmap=plt.cm.Blues):\n",
    "    \"\"\"\n",
    "    This function prints and plots the confusion matrix.\n",
    "    Normalization can be applied by setting `normalize=True`.\n",
    "    \"\"\"\n",
    "\n",
    "    cm = cm.astype('float') / cm.sum(axis=1)[:, np.newaxis]\n",
    "\n",
    "    plt.imshow(cm, interpolation='nearest', cmap=cmap)\n",
    "    plt.title(title, fontsize=30)\n",
    "    plt.colorbar()\n",
    "    tick_marks = np.arange(len(classes))\n",
    "    plt.xticks(tick_marks, classes, rotation=45, fontsize=22)\n",
    "    plt.yticks(tick_marks, classes, fontsize=22)\n",
    "\n",
    "    fmt = '.2f'\n",
    "    thresh = cm.max() / 2.\n",
    "    for i, j in itertools.product(range(cm.shape[0]), range(cm.shape[1])):\n",
    "        plt.text(j, i, format(cm[i, j], fmt),\n",
    "                 horizontalalignment=\"center\",\n",
    "                 color=\"white\" if cm[i, j] > thresh else \"black\")\n",
    "\n",
    "    plt.ylabel('True label', fontsize=25)\n",
    "    plt.xlabel('Predicted label', fontsize=25)"
   ]
  },
  {
   "cell_type": "code",
   "execution_count": 102,
   "metadata": {},
   "outputs": [
    {
     "data": {
      "image/png": "[encoded data removed]",
      "text/plain": [
       "<Figure size 576x432 with 2 Axes>"
      ]
     },
     "metadata": {},
     "output_type": "display_data"
    }
   ],
   "source": [
    "cnf_matrix = confusion_matrix(y_test, y_pred)\n",
    "plt.figure(figsize=(8,6))\n",
    "plot_confusion_matrix(cnf_matrix, classes=[0,1], title=\"Confusion matrix\")\n",
    "plt.show()"
   ]
  }
 ],
 "metadata": {
  "kernelspec": {
   "display_name": "Python 3",
   "language": "python",
   "name": "python3"
  },
  "language_info": {
   "codemirror_mode": {
    "name": "ipython",
    "version": 3
   },
   "file_extension": ".py",
   "mimetype": "text/x-python",
   "name": "python",
   "nbconvert_exporter": "python",
   "pygments_lexer": "ipython3",
   "version": "3.7.3"
  }
 },
 "nbformat": 4,
 "nbformat_minor": 2
}
